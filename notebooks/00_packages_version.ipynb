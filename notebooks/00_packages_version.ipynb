{
 "cells": [
  {
   "cell_type": "markdown",
   "id": "88aa1e86-1331-4aeb-bec2-c14bd5a549ee",
   "metadata": {},
   "source": [
    "# Version of the main packeges used in this project"
   ]
  },
  {
   "cell_type": "code",
   "execution_count": 3,
   "id": "5c4df79e-85e5-49c0-b26e-912e0165bbdf",
   "metadata": {},
   "outputs": [
    {
     "name": "stdout",
     "output_type": "stream",
     "text": [
      "Version of the packeges: \n",
      "\n",
      "-------------------- | ----------\n",
      "      Package        |  Version  \n",
      "-------------------- | ----------\n",
      "Imbalanced-Learn     |     0.11.0\n",
      "Matplotlib           |      3.8.2\n",
      "Numpy                |     1.26.4\n",
      "Pandas               |      2.1.4\n",
      "Scikit-Learn         |      1.2.2\n",
      "Seaborn              |     0.13.2\n",
      "\n",
      "Python version: 3.11.7\n"
     ]
    }
   ],
   "source": [
    "import pandas as pd\n",
    "import matplotlib\n",
    "import seaborn as sns\n",
    "import numpy as np\n",
    "import sklearn\n",
    "import imblearn\n",
    "from platform import python_version\n",
    "\n",
    "packages = {\n",
    "    \"Pandas\": pd,\n",
    "    \"Matplotlib\": matplotlib,\n",
    "    \"Seaborn\": sns,\n",
    "    \"Numpy\": np,\n",
    "    \"Scikit-Learn\": sklearn,\n",
    "    \"Imbalanced-Learn\": imblearn\n",
    "}\n",
    "\n",
    "print(\"Version of the packeges: \\n\")\n",
    "print(f\"{'':-^20} | {'':-^10}\")\n",
    "print(f\"{'Package':^20} | {'Version':^10}\")\n",
    "print(f\"{'':-^20} | {'':-^10}\")\n",
    "\n",
    "for name, package in sorted(packages.items()):\n",
    "    print(f\"{name:<20} | {package.__version__:>10}\")\n",
    "\n",
    "print()\n",
    "print(f\"Python version: {python_version()}\")"
   ]
  }
 ],
 "metadata": {
  "kernelspec": {
   "display_name": "Python 3 (ipykernel)",
   "language": "python",
   "name": "python3"
  },
  "language_info": {
   "codemirror_mode": {
    "name": "ipython",
    "version": 3
   },
   "file_extension": ".py",
   "mimetype": "text/x-python",
   "name": "python",
   "nbconvert_exporter": "python",
   "pygments_lexer": "ipython3",
   "version": "3.11.7"
  }
 },
 "nbformat": 4,
 "nbformat_minor": 5
}
